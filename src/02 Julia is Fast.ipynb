{
 "cells": [
  {
   "cell_type": "markdown",
   "metadata": {},
   "source": [
    "# Julia is Fast - `@time`, `@elapsed` and `@inbounds`\n",
    "\n",
    "---\n",
    "\n",
    "In this notebook, we demonstrate how fast `Julia` is, compared to other dynamically typed languages. \n",
    "\n",
    "## Prerequisites\n",
    "\n",
    "Read the text [Why Julia?](https://github.com/stevengj/julia-mit/blob/master/README.md#why-julia) (3 min)\n",
    "\n",
    "Read [Performance tips](https://docs.julialang.org/en/stable/manual/performance-tips/) section of the `Julia` manual. (20 min) \n",
    "\n",
    "## Competences \n",
    "\n",
    "The reader should understand effects of \"[just-in-time\n",
    "compiler](https://en.wikipedia.org/wiki/Just-in-time_compilation)\"\n",
    "called [LLVM](http://llvm.org/) on the speed of execution of programs. \n",
    "The reader should be able to write simple, but fast, programs containing loops.\n",
    "\n",
    "## Credits \n",
    "\n",
    "Some examples are taken from [The Julia Manual](https://docs.julialang.org/en/stable/).\n"
   ]
  },
  {
   "cell_type": "markdown",
   "metadata": {},
   "source": [
    "## Scholarly example - summing integer halves\n",
    "\n",
    "Consider the function `f` which sums halves of integers from `1` to `n`:\n",
    "\n",
    "__N.B.__ `Esc l` toggles line numbers in the current cell."
   ]
  },
  {
   "cell_type": "code",
   "execution_count": 1,
   "metadata": {},
   "outputs": [
    {
     "data": {
      "text/plain": [
       "f (generic function with 1 method)"
      ]
     },
     "execution_count": 1,
     "metadata": {},
     "output_type": "execute_result"
    }
   ],
   "source": [
    "function f(n)\n",
    "    s = 0\n",
    "    for i = 1:n\n",
    "        s += i/2\n",
    "    end\n",
    "    s\n",
    "end"
   ]
  },
  {
   "cell_type": "markdown",
   "metadata": {},
   "source": [
    "In order for the fast execution, the function must first be compiled. Compilation is performed automatically, when the function is invoked for the first time. Therefore, the first call can be done with some trivial choice of parameters.\n",
    "\n",
    "The timing can be done by two commands, `@time` and `@elapsed`: "
   ]
  },
  {
   "cell_type": "code",
   "execution_count": 2,
   "metadata": {},
   "outputs": [
    {
     "data": {
      "text/markdown": [
       "```\n",
       "@time\n",
       "```\n",
       "\n",
       "A macro to execute an expression, printing the time it took to execute, the number of allocations, and the total number of bytes its execution caused to be allocated, before returning the value of the expression.\n",
       "\n",
       "See also [`@timev`](@ref), [`@timed`](@ref), [`@elapsed`](@ref), and [`@allocated`](@ref).\n",
       "\n",
       "```julia-repl\n",
       "julia> @time rand(10^6);\n",
       "  0.001525 seconds (7 allocations: 7.630 MiB)\n",
       "\n",
       "julia> @time begin\n",
       "           sleep(0.3)\n",
       "           1+1\n",
       "       end\n",
       "  0.301395 seconds (8 allocations: 336 bytes)\n",
       "```\n"
      ],
      "text/plain": [
       "```\n",
       "@time\n",
       "```\n",
       "\n",
       "A macro to execute an expression, printing the time it took to execute, the number of allocations, and the total number of bytes its execution caused to be allocated, before returning the value of the expression.\n",
       "\n",
       "See also [`@timev`](@ref), [`@timed`](@ref), [`@elapsed`](@ref), and [`@allocated`](@ref).\n",
       "\n",
       "```julia-repl\n",
       "julia> @time rand(10^6);\n",
       "  0.001525 seconds (7 allocations: 7.630 MiB)\n",
       "\n",
       "julia> @time begin\n",
       "           sleep(0.3)\n",
       "           1+1\n",
       "       end\n",
       "  0.301395 seconds (8 allocations: 336 bytes)\n",
       "```\n"
      ]
     },
     "execution_count": 2,
     "metadata": {},
     "output_type": "execute_result"
    }
   ],
   "source": [
    "?@time"
   ]
  },
  {
   "cell_type": "code",
   "execution_count": 3,
   "metadata": {},
   "outputs": [
    {
     "data": {
      "text/markdown": [
       "```\n",
       "@elapsed\n",
       "```\n",
       "\n",
       "A macro to evaluate an expression, discarding the resulting value, instead returning the number of seconds it took to execute as a floating-point number.\n",
       "\n",
       "See also [`@time`](@ref), [`@timev`](@ref), [`@timed`](@ref), and [`@allocated`](@ref).\n",
       "\n",
       "```julia-repl\n",
       "julia> @elapsed sleep(0.3)\n",
       "0.301391426\n",
       "```\n"
      ],
      "text/plain": [
       "```\n",
       "@elapsed\n",
       "```\n",
       "\n",
       "A macro to evaluate an expression, discarding the resulting value, instead returning the number of seconds it took to execute as a floating-point number.\n",
       "\n",
       "See also [`@time`](@ref), [`@timev`](@ref), [`@timed`](@ref), and [`@allocated`](@ref).\n",
       "\n",
       "```julia-repl\n",
       "julia> @elapsed sleep(0.3)\n",
       "0.301391426\n",
       "```\n"
      ]
     },
     "execution_count": 3,
     "metadata": {},
     "output_type": "execute_result"
    }
   ],
   "source": [
    "?@elapsed"
   ]
  },
  {
   "cell_type": "code",
   "execution_count": 4,
   "metadata": {},
   "outputs": [
    {
     "name": "stdout",
     "output_type": "stream",
     "text": [
      "  0.031621 seconds (1.71 k allocations: 92.409 KiB)\n"
     ]
    },
    {
     "data": {
      "text/plain": [
       "0.5"
      ]
     },
     "execution_count": 4,
     "metadata": {},
     "output_type": "execute_result"
    }
   ],
   "source": [
    "@time f(1) "
   ]
  },
  {
   "cell_type": "code",
   "execution_count": 5,
   "metadata": {},
   "outputs": [
    {
     "data": {
      "text/plain": [
       "4.47e-6"
      ]
     },
     "execution_count": 5,
     "metadata": {},
     "output_type": "execute_result"
    }
   ],
   "source": [
    "# This run is much faster, since the function is already compiled\n",
    "@elapsed f(1)"
   ]
  },
  {
   "cell_type": "markdown",
   "metadata": {},
   "source": [
    "Let us now run the big-size computation. Notice the unnaturally high byte allocation and the huge amount of time spent on \n",
    "[garbage collection](http://en.wikipedia.org/wiki/Garbage_collection_%28computer_science%29)."
   ]
  },
  {
   "cell_type": "code",
   "execution_count": 6,
   "metadata": {},
   "outputs": [
    {
     "name": "stdout",
     "output_type": "stream",
     "text": [
      "  0.108643 seconds (3.00 M allocations: 45.777 MiB, 46.71% gc time)\n"
     ]
    },
    {
     "data": {
      "text/plain": [
       "2.5000025e11"
      ]
     },
     "execution_count": 6,
     "metadata": {},
     "output_type": "execute_result"
    }
   ],
   "source": [
    "# Notice the unnaturally high byte  allocation!\n",
    "@time f(1000000)"
   ]
  },
  {
   "cell_type": "code",
   "execution_count": 7,
   "metadata": {},
   "outputs": [
    {
     "data": {
      "text/plain": [
       "0.045747749"
      ]
     },
     "execution_count": 7,
     "metadata": {},
     "output_type": "execute_result"
    }
   ],
   "source": [
    "# We shall be using @time from now on\n",
    "@elapsed f(1000000)"
   ]
  },
  {
   "cell_type": "markdown",
   "metadata": {},
   "source": [
    "Since your computer can execute several _Gigaflops_ (floating-point operations per second), this is rather slow. This slowness is due to _type instability_: variable `s` is in the beginning assumed to be of type `Integer`, while at every other step, the result is a real number of type `Float64`. Permanent checking of types requires permanent memory allocation and deallocation (garbage collection). This is corrected by very simple means: just declare `s` as a real number, and the execution is more than 10 times faster with almost no memory allocation (and, consequently, no garbage collection)."
   ]
  },
  {
   "cell_type": "code",
   "execution_count": 8,
   "metadata": {},
   "outputs": [
    {
     "data": {
      "text/plain": [
       "f1 (generic function with 1 method)"
      ]
     },
     "execution_count": 8,
     "metadata": {},
     "output_type": "execute_result"
    }
   ],
   "source": [
    "function f1(n)\n",
    "    s = 0.0\n",
    "    for i = 1:n\n",
    "        s += i/2\n",
    "    end\n",
    "    s\n",
    "end"
   ]
  },
  {
   "cell_type": "code",
   "execution_count": 9,
   "metadata": {},
   "outputs": [
    {
     "name": "stdout",
     "output_type": "stream",
     "text": [
      "  0.016897 seconds (1.10 k allocations: 58.366 KiB)\n"
     ]
    },
    {
     "data": {
      "text/plain": [
       "0.5"
      ]
     },
     "execution_count": 9,
     "metadata": {},
     "output_type": "execute_result"
    }
   ],
   "source": [
    "@time f1(1)"
   ]
  },
  {
   "cell_type": "code",
   "execution_count": 10,
   "metadata": {},
   "outputs": [
    {
     "name": "stdout",
     "output_type": "stream",
     "text": [
      "  0.001064 seconds (5 allocations: 176 bytes)\n"
     ]
    },
    {
     "data": {
      "text/plain": [
       "2.5000025e11"
      ]
     },
     "execution_count": 10,
     "metadata": {},
     "output_type": "execute_result"
    }
   ],
   "source": [
    "@time f1(1000000)"
   ]
  },
  {
   "cell_type": "markdown",
   "metadata": {},
   "source": [
    "`@time` can alo be invoked as a function:"
   ]
  },
  {
   "cell_type": "code",
   "execution_count": 11,
   "metadata": {},
   "outputs": [
    {
     "name": "stdout",
     "output_type": "stream",
     "text": [
      "  0.001137 seconds (5 allocations: 176 bytes)\n"
     ]
    },
    {
     "data": {
      "text/plain": [
       "2.5000025e11"
      ]
     },
     "execution_count": 11,
     "metadata": {},
     "output_type": "execute_result"
    }
   ],
   "source": [
    "@time(f1(1000000))"
   ]
  },
  {
   "cell_type": "code",
   "execution_count": 12,
   "metadata": {},
   "outputs": [
    {
     "name": "stdout",
     "output_type": "stream",
     "text": [
      "  0.001065 seconds (6 allocations: 224 bytes)\n"
     ]
    },
    {
     "data": {
      "text/plain": [
       "2.5000025e11"
      ]
     },
     "execution_count": 12,
     "metadata": {},
     "output_type": "execute_result"
    }
   ],
   "source": [
    "@time s2=f1(1000000)"
   ]
  },
  {
   "cell_type": "code",
   "execution_count": 13,
   "metadata": {},
   "outputs": [
    {
     "name": "stdout",
     "output_type": "stream",
     "text": [
      "  0.001091 seconds (5 allocations: 176 bytes)\n"
     ]
    },
    {
     "data": {
      "text/plain": [
       "2.5000025e11"
      ]
     },
     "execution_count": 13,
     "metadata": {},
     "output_type": "execute_result"
    }
   ],
   "source": [
    "@time(s2=f1(1000000))"
   ]
  },
  {
   "cell_type": "markdown",
   "metadata": {},
   "source": [
    "## Real-world example - exponential moving average\n",
    "\n",
    "[Exponential moving average](http://en.wikipedia.org/wiki/Moving_average#Exponential_moving_average) is a fast _one pass_ formula (each data point of the given data set $A$ is accessed only once) often used in high-frequency on-line trading (see [Online Algorithms in High-Frequency Trading](http://cacm.acm.org/magazines/2013/10/168184-online-algorithms-in-high-frequency-trading/fulltext) for more details). __Notice that the output array $X$ is declared in advance.__\n",
    "\n",
    "Using `return` in the last line is here optional.\n"
   ]
  },
  {
   "cell_type": "code",
   "execution_count": 14,
   "metadata": {},
   "outputs": [
    {
     "data": {
      "text/plain": [
       "fexpma (generic function with 1 method)"
      ]
     },
     "execution_count": 14,
     "metadata": {},
     "output_type": "execute_result"
    }
   ],
   "source": [
    "function fexpma{T}( A::Vector{T}, α::T )\n",
    "# fast exponential moving average: X - moving average, \n",
    "# A - data, alpha - exponential forgetting parameter\n",
    "    n = length(A)\n",
    "    X = Array{T}(n) # Declare X\n",
    "    β = one(T)-α\n",
    "    X[1] = A[1]\n",
    "    for k = 2:n\n",
    "        X[k] = β*A[k] + α*X[k-1]\n",
    "    end\n",
    "    return X\n",
    "end\n"
   ]
  },
  {
   "cell_type": "code",
   "execution_count": 15,
   "metadata": {},
   "outputs": [
    {
     "data": {
      "text/plain": [
       "1-element Array{Float64,1}:\n",
       " 1.0"
      ]
     },
     "execution_count": 15,
     "metadata": {},
     "output_type": "execute_result"
    }
   ],
   "source": [
    "# First run for compilation\n",
    "fexpma([1.0],0.5)"
   ]
  },
  {
   "cell_type": "markdown",
   "metadata": {},
   "source": [
    "We now generate some big-size data:"
   ]
  },
  {
   "cell_type": "code",
   "execution_count": 16,
   "metadata": {},
   "outputs": [
    {
     "data": {
      "text/plain": [
       "20000000-element Array{Float64,1}:\n",
       "   0.637048\n",
       "   0.216254\n",
       "   0.672529\n",
       "   0.801822\n",
       "   0.51794 \n",
       "   0.538427\n",
       "   0.531375\n",
       "   0.104075\n",
       "   0.875322\n",
       "   0.587945\n",
       "   0.971954\n",
       "   0.510047\n",
       "   0.413579\n",
       "   ⋮       \n",
       "  70.3381  \n",
       "  69.5518  \n",
       " 126.375   \n",
       "  18.9786  \n",
       "   7.16643 \n",
       "  14.6474  \n",
       "  52.1081  \n",
       " 165.891   \n",
       "  16.7126  \n",
       " 105.642   \n",
       "   2.65284 \n",
       " 167.777   "
      ]
     },
     "execution_count": 16,
     "metadata": {},
     "output_type": "execute_result"
    }
   ],
   "source": [
    "# Big random slightly increasing sequence\n",
    "A=[rand() + 0.00001*k*rand() for k=1:20_000_000]"
   ]
  },
  {
   "cell_type": "code",
   "execution_count": 17,
   "metadata": {},
   "outputs": [
    {
     "name": "stdout",
     "output_type": "stream",
     "text": [
      "  0.360626 seconds (7 allocations: 152.588 MiB, 47.00% gc time)\n"
     ]
    },
    {
     "data": {
      "text/plain": [
       "20000000-element Array{Float64,1}:\n",
       "   0.637048\n",
       "   0.594968\n",
       "   0.602724\n",
       "   0.622634\n",
       "   0.612165\n",
       "   0.604791\n",
       "   0.597449\n",
       "   0.548112\n",
       "   0.580833\n",
       "   0.581544\n",
       "   0.620585\n",
       "   0.609531\n",
       "   0.589936\n",
       "   ⋮       \n",
       " 112.381   \n",
       " 108.098   \n",
       " 109.926   \n",
       " 100.831   \n",
       "  91.4644  \n",
       "  83.7827  \n",
       "  80.6153  \n",
       "  89.1429  \n",
       "  81.8998  \n",
       "  84.2741  \n",
       "  76.1119  \n",
       "  85.2784  "
      ]
     },
     "execution_count": 17,
     "metadata": {},
     "output_type": "execute_result"
    }
   ],
   "source": [
    "@time X=fexpma(A,0.9)"
   ]
  },
  {
   "cell_type": "markdown",
   "metadata": {},
   "source": [
    "## `@inbounds`\n",
    "\n",
    "The `@inbounds` command eliminates array bounds checking within expressions. Be certain before doing this. If the subscripts are ever out of bounds, you may suffer crashes or silent corruption. The following program runs a little faster:"
   ]
  },
  {
   "cell_type": "code",
   "execution_count": 18,
   "metadata": {},
   "outputs": [
    {
     "data": {
      "text/plain": [
       "fexpma (generic function with 1 method)"
      ]
     },
     "execution_count": 18,
     "metadata": {},
     "output_type": "execute_result"
    }
   ],
   "source": [
    "function fexpma{T}( A::Vector{T}, α::T )\n",
    "# fast exponential moving average: X - moving average, \n",
    "# A - data, alpha - exponential forgetting parameter\n",
    "    n = length(A)\n",
    "    X = Array{T}(n) # Declare X\n",
    "    β = one(T)-α\n",
    "    X[1] = A[1]\n",
    "    @inbounds for k = 2:n\n",
    "        X[k] = β*A[k] + α*X[k-1]\n",
    "    end\n",
    "    return X\n",
    "end"
   ]
  },
  {
   "cell_type": "code",
   "execution_count": 19,
   "metadata": {},
   "outputs": [
    {
     "name": "stdout",
     "output_type": "stream",
     "text": [
      "  0.346716 seconds (2.06 k allocations: 152.696 MiB, 36.88% gc time)\n"
     ]
    },
    {
     "data": {
      "text/plain": [
       "20000000-element Array{Float64,1}:\n",
       "   0.637048\n",
       "   0.594968\n",
       "   0.602724\n",
       "   0.622634\n",
       "   0.612165\n",
       "   0.604791\n",
       "   0.597449\n",
       "   0.548112\n",
       "   0.580833\n",
       "   0.581544\n",
       "   0.620585\n",
       "   0.609531\n",
       "   0.589936\n",
       "   ⋮       \n",
       " 112.381   \n",
       " 108.098   \n",
       " 109.926   \n",
       " 100.831   \n",
       "  91.4644  \n",
       "  83.7827  \n",
       "  80.6153  \n",
       "  89.1429  \n",
       "  81.8998  \n",
       "  84.2741  \n",
       "  76.1119  \n",
       "  85.2784  "
      ]
     },
     "execution_count": 19,
     "metadata": {},
     "output_type": "execute_result"
    }
   ],
   "source": [
    "@time X=fexpma(A,0.9)"
   ]
  },
  {
   "cell_type": "markdown",
   "metadata": {},
   "source": [
    "Similar `Matlab` programs give the following timing for the two versions of the function, first _without_ prior declaration of $X$ and then _with_ prior declaration. The _latter_ version is nine times faster. \n",
    "\n",
    "---\n",
    "```\n",
    "function X = fexpma0( A,alpha )\n",
    "% fast exponential moving average: X - moving average, A - data, alpha - exponential forgetting parameter\n",
    "n=length(A);\n",
    "beta=1-alpha;\n",
    "X(1)=A(1);\n",
    "for k=2:n\n",
    "    X(k)=beta*A(k)+alpha*X(k-1);\n",
    "end\n",
    "```\n",
    "```\n",
    ">> A=rand(20000000,1)+0.00001*[1:20000000]'.*rand(20000000,1);\n",
    ">> tic, X=fexpma0(A,0.9); toc\n",
    "Elapsed time is 3.073359 seconds.\n",
    "```\n",
    "\n",
    "---\n",
    "\n",
    "```\n",
    "function X = fexpma( A,alpha )\n",
    "% fast exponential moving average: X - moving average, A - data, alpha - exponential forgetting parameter\n",
    "n=length(A);\n",
    "X=zeros(n,1); % Allocate X in advance\n",
    "beta=1-alpha;\n",
    "X(1)=A(1);\n",
    "for k=2:n\n",
    "    X(k)=beta*A(k)+alpha*X(k-1);\n",
    "end\n",
    "```\n",
    "```\n",
    ">> tic, X=fexpma(A,0.9); toc\n",
    "Elapsed time is 0.320976 seconds.\n",
    "```"
   ]
  },
  {
   "cell_type": "markdown",
   "metadata": {},
   "source": [
    "## Plotting the moving average\n",
    "\n",
    "Let us plot the data $A$ and its exponential moving average $X$. The dimension of the data is too large for meaningful direct plot. In `Julia` we can use `@manipulate` command to slide through the data. It takes a while to read packages `Winston` (for plotting) and `Interact`, but this is needed only for the first invocation."
   ]
  },
  {
   "cell_type": "code",
   "execution_count": 21,
   "metadata": {},
   "outputs": [],
   "source": [
    "using Winston\n",
    "using Interact"
   ]
  },
  {
   "cell_type": "code",
   "execution_count": 22,
   "metadata": {},
   "outputs": [
    {
     "data": {
      "application/vnd.jupyter.widget-view+json": {
       "model_id": "ac6ab357-615a-4c42-ac3a-e92e65e626bb",
       "version_major": 2,
       "version_minor": 0
      }
     },
     "metadata": {},
     "output_type": "display_data"
    },
    {
     "data": {
      "text/html": [],
      "text/plain": [
       "Interact.Options{:SelectionSlider,Int64}(1: \"input\" = 9999001 Int64 , \"k\", 9999001, \"9999001\", 10000, Interact.OptionDict(DataStructures.OrderedDict(\"1\"=>1,\"1001\"=>1001,\"2001\"=>2001,\"3001\"=>3001,\"4001\"=>4001,\"5001\"=>5001,\"6001\"=>6001,\"7001\"=>7001,\"8001\"=>8001,\"9001\"=>9001…), Dict(3454001=>\"3454001\",12015001=>\"12015001\",18813001=>\"18813001\",447001=>\"447001\",39001=>\"39001\",6157001=>\"6157001\",5292001=>\"5292001\",3713001=>\"3713001\",12507001=>\"12507001\",14797001=>\"14797001\"…)), Any[], Any[], true, \"horizontal\", true)"
      ]
     },
     "metadata": {},
     "output_type": "display_data"
    },
    {
     "data": {
      "image/png": "[encoded data removed]",
      "text/plain": [
       "Winston.FramedPlot(...)"
      ]
     },
     "execution_count": 22,
     "metadata": {
      "comm_id": "c3578aac-381b-44d4-a8a3-1e602d16a728",
      "reactive": true
     },
     "output_type": "execute_result"
    }
   ],
   "source": [
    "@manipulate for k=1:1000:20000000\n",
    "    plot(collect(k:k+1000),A[k:k+1000],\"r.\",\n",
    "        collect(k:k+1000),X[k:k+1000],\"b\")\n",
    "end"
   ]
  },
  {
   "cell_type": "markdown",
   "metadata": {},
   "source": [
    "### Remark\n",
    "More details about optimizing your programs are given in the [Profiling Notebook](http://localhost:8890/notebooks/Documents/Julia/Julia-Course/src/05%20Profiling.ipynb)."
   ]
  },
  {
   "cell_type": "markdown",
   "metadata": {},
   "source": [
    "## Pre-allocating output\n",
    "\n",
    "The following example is from [Pre-allocating outputs](https://docs.julialang.org/en/stable/manual/performance-tips/#Pre-allocating-outputs-1). The functions `loopinc()` and `loopinc_prealloc()` both compute $\\sum_{i=2}^{10000001}i$, the second one being 15 times faster: "
   ]
  },
  {
   "cell_type": "code",
   "execution_count": 23,
   "metadata": {},
   "outputs": [
    {
     "data": {
      "text/plain": [
       "loopinc_prealloc (generic function with 1 method)"
      ]
     },
     "execution_count": 23,
     "metadata": {},
     "output_type": "execute_result"
    }
   ],
   "source": [
    "function xinc(x)\n",
    "    return [x, x+1, x+2]\n",
    "end\n",
    "\n",
    "function loopinc()\n",
    "    y = 0\n",
    "    for i = 1:10^7\n",
    "        ret = xinc(i)\n",
    "        y += ret[2]\n",
    "    end\n",
    "    y\n",
    "end\n",
    "\n",
    "function xinc!{T}(ret::AbstractVector{T}, x::T)\n",
    "    ret[1] = x\n",
    "    ret[2] = x+1\n",
    "    ret[3] = x+2\n",
    "    nothing\n",
    "end\n",
    "\n",
    "function loopinc_prealloc()\n",
    "    ret = Array{Int}(3)\n",
    "    y = 0\n",
    "    for i = 1:10^7\n",
    "        xinc!(ret, i)\n",
    "        y += ret[2]\n",
    "    end\n",
    "    y\n",
    "end"
   ]
  },
  {
   "cell_type": "code",
   "execution_count": 24,
   "metadata": {},
   "outputs": [
    {
     "name": "stdout",
     "output_type": "stream",
     "text": [
      "  1.424986 seconds (40.00 M allocations: 1.490 GiB, 24.93% gc time)\n"
     ]
    },
    {
     "data": {
      "text/plain": [
       "50000015000000"
      ]
     },
     "execution_count": 24,
     "metadata": {},
     "output_type": "execute_result"
    }
   ],
   "source": [
    "@time loopinc()"
   ]
  },
  {
   "cell_type": "code",
   "execution_count": 26,
   "metadata": {},
   "outputs": [
    {
     "name": "stdout",
     "output_type": "stream",
     "text": [
      "  0.039859 seconds (6 allocations: 288 bytes)\n"
     ]
    },
    {
     "data": {
      "text/plain": [
       "50000015000000"
      ]
     },
     "execution_count": 26,
     "metadata": {},
     "output_type": "execute_result"
    }
   ],
   "source": [
    "@time loopinc_prealloc() # After the second run"
   ]
  },
  {
   "cell_type": "markdown",
   "metadata": {},
   "source": [
    "## Memory access\n",
    "\n",
    "The following example is from [Access arrays in memory order, along columns](https://docs.julialang.org/en/stable/manual/performance-tips/#Access-arrays-in-memory-order,-along-columns-1).\n",
    "\n",
    "Multidimensional arrays in Julia are stored in column-major order, which means that arrays are stacked one column at a time. This convention for ordering arrays is common in many languages like Fortran, Matlab, and R (to name a few). The alternative to column-major ordering is row-major ordering, which is the convention adopted by C and Python (numpy) among other languages. The ordering can be verified using the `vec()` function or the syntax `[:]`:"
   ]
  },
  {
   "cell_type": "code",
   "execution_count": 27,
   "metadata": {},
   "outputs": [
    {
     "data": {
      "text/plain": [
       "4×3 Array{Int64,2}:\n",
       " 0  8  9\n",
       " 4  2  6\n",
       " 3  2  0\n",
       " 0  2  9"
      ]
     },
     "execution_count": 27,
     "metadata": {},
     "output_type": "execute_result"
    }
   ],
   "source": [
    "B = rand(0:9,4,3)"
   ]
  },
  {
   "cell_type": "code",
   "execution_count": 28,
   "metadata": {},
   "outputs": [
    {
     "data": {
      "text/plain": [
       "12-element Array{Int64,1}:\n",
       " 0\n",
       " 4\n",
       " 3\n",
       " 0\n",
       " 8\n",
       " 2\n",
       " 2\n",
       " 2\n",
       " 9\n",
       " 6\n",
       " 0\n",
       " 9"
      ]
     },
     "execution_count": 28,
     "metadata": {},
     "output_type": "execute_result"
    }
   ],
   "source": [
    "B[:]"
   ]
  },
  {
   "cell_type": "code",
   "execution_count": 29,
   "metadata": {},
   "outputs": [
    {
     "data": {
      "text/plain": [
       "12-element Array{Int64,1}:\n",
       " 0\n",
       " 4\n",
       " 3\n",
       " 0\n",
       " 8\n",
       " 2\n",
       " 2\n",
       " 2\n",
       " 9\n",
       " 6\n",
       " 0\n",
       " 9"
      ]
     },
     "execution_count": 29,
     "metadata": {},
     "output_type": "execute_result"
    }
   ],
   "source": [
    "vec(B)"
   ]
  },
  {
   "cell_type": "markdown",
   "metadata": {},
   "source": [
    "The ordering of arrays can have significant performance effects when looping over arrays. Loops should be organized such that the subsequent accessed elements are close to each other in physical memory.\n",
    "\n",
    "The following functions accept a `Vector` and and return a square `Array` with the rows or the columns filled with copies of the input vector, respectively."
   ]
  },
  {
   "cell_type": "code",
   "execution_count": 30,
   "metadata": {},
   "outputs": [
    {
     "data": {
      "text/plain": [
       "copy_rows (generic function with 1 method)"
      ]
     },
     "execution_count": 30,
     "metadata": {},
     "output_type": "execute_result"
    }
   ],
   "source": [
    "function copy_cols{T}(x::Vector{T})\n",
    "    n = size(x, 1)\n",
    "    out = Array{eltype(x)}(n, n)\n",
    "    for i=1:n\n",
    "        out[:, i] = x\n",
    "    end\n",
    "    out\n",
    "end\n",
    "\n",
    "function copy_rows{T}(x::Vector{T})\n",
    "    n = size(x, 1)\n",
    "    out = Array{eltype(x)}(n, n)\n",
    "    for i=1:n\n",
    "        out[i, :] = x\n",
    "    end\n",
    "    out\n",
    "end"
   ]
  },
  {
   "cell_type": "code",
   "execution_count": 31,
   "metadata": {},
   "outputs": [
    {
     "data": {
      "text/plain": [
       "2×2 Array{Float64,2}:\n",
       " 1.0  2.0\n",
       " 1.0  2.0"
      ]
     },
     "execution_count": 31,
     "metadata": {},
     "output_type": "execute_result"
    }
   ],
   "source": [
    "copy_cols([1.0,2])\n",
    "copy_rows([1.0,2])"
   ]
  },
  {
   "cell_type": "code",
   "execution_count": 32,
   "metadata": {},
   "outputs": [
    {
     "data": {
      "text/plain": [
       "5000-element Array{Float64,1}:\n",
       " 0.036955 \n",
       " 0.950652 \n",
       " 0.604693 \n",
       " 0.707791 \n",
       " 0.860578 \n",
       " 0.902264 \n",
       " 0.243147 \n",
       " 0.143855 \n",
       " 0.79275  \n",
       " 0.747119 \n",
       " 0.0966688\n",
       " 0.593104 \n",
       " 0.94554  \n",
       " ⋮        \n",
       " 0.614552 \n",
       " 0.883566 \n",
       " 0.287877 \n",
       " 0.384452 \n",
       " 0.0114223\n",
       " 0.479754 \n",
       " 0.795568 \n",
       " 0.711421 \n",
       " 0.391847 \n",
       " 0.166177 \n",
       " 0.230773 \n",
       " 0.723244 "
      ]
     },
     "execution_count": 32,
     "metadata": {},
     "output_type": "execute_result"
    }
   ],
   "source": [
    "x=rand(5000) # generate a random vector"
   ]
  },
  {
   "cell_type": "code",
   "execution_count": 33,
   "metadata": {},
   "outputs": [
    {
     "name": "stdout",
     "output_type": "stream",
     "text": [
      "  0.259113 seconds (9.50 k allocations: 190.880 MiB, 4.74% gc time)\n"
     ]
    },
    {
     "data": {
      "text/plain": [
       "5000×5000 Array{Float64,2}:\n",
       " 0.036955   0.036955   0.036955   …  0.036955   0.036955   0.036955 \n",
       " 0.950652   0.950652   0.950652      0.950652   0.950652   0.950652 \n",
       " 0.604693   0.604693   0.604693      0.604693   0.604693   0.604693 \n",
       " 0.707791   0.707791   0.707791      0.707791   0.707791   0.707791 \n",
       " 0.860578   0.860578   0.860578      0.860578   0.860578   0.860578 \n",
       " 0.902264   0.902264   0.902264   …  0.902264   0.902264   0.902264 \n",
       " 0.243147   0.243147   0.243147      0.243147   0.243147   0.243147 \n",
       " 0.143855   0.143855   0.143855      0.143855   0.143855   0.143855 \n",
       " 0.79275    0.79275    0.79275       0.79275    0.79275    0.79275  \n",
       " 0.747119   0.747119   0.747119      0.747119   0.747119   0.747119 \n",
       " 0.0966688  0.0966688  0.0966688  …  0.0966688  0.0966688  0.0966688\n",
       " 0.593104   0.593104   0.593104      0.593104   0.593104   0.593104 \n",
       " 0.94554    0.94554    0.94554       0.94554    0.94554    0.94554  \n",
       " ⋮                                ⋱                                 \n",
       " 0.614552   0.614552   0.614552      0.614552   0.614552   0.614552 \n",
       " 0.883566   0.883566   0.883566      0.883566   0.883566   0.883566 \n",
       " 0.287877   0.287877   0.287877   …  0.287877   0.287877   0.287877 \n",
       " 0.384452   0.384452   0.384452      0.384452   0.384452   0.384452 \n",
       " 0.0114223  0.0114223  0.0114223     0.0114223  0.0114223  0.0114223\n",
       " 0.479754   0.479754   0.479754      0.479754   0.479754   0.479754 \n",
       " 0.795568   0.795568   0.795568      0.795568   0.795568   0.795568 \n",
       " 0.711421   0.711421   0.711421   …  0.711421   0.711421   0.711421 \n",
       " 0.391847   0.391847   0.391847      0.391847   0.391847   0.391847 \n",
       " 0.166177   0.166177   0.166177      0.166177   0.166177   0.166177 \n",
       " 0.230773   0.230773   0.230773      0.230773   0.230773   0.230773 \n",
       " 0.723244   0.723244   0.723244      0.723244   0.723244   0.723244 "
      ]
     },
     "execution_count": 33,
     "metadata": {},
     "output_type": "execute_result"
    }
   ],
   "source": [
    "@time C=copy_cols(x)  # We generate a large matrix"
   ]
  },
  {
   "cell_type": "code",
   "execution_count": 34,
   "metadata": {},
   "outputs": [
    {
     "name": "stdout",
     "output_type": "stream",
     "text": [
      "  0.364697 seconds (9.50 k allocations: 190.880 MiB, 18.67% gc time)\n"
     ]
    }
   ],
   "source": [
    "@time D=copy_rows(x); # This is few times slower"
   ]
  },
  {
   "cell_type": "markdown",
   "metadata": {},
   "source": [
    "### Remark\n",
    "There is also a built-in function `repmat()`:"
   ]
  },
  {
   "cell_type": "code",
   "execution_count": 35,
   "metadata": {},
   "outputs": [
    {
     "name": "stdout",
     "output_type": "stream",
     "text": [
      "search: \u001b[1mr\u001b[22m\u001b[1me\u001b[22m\u001b[1mp\u001b[22m\u001b[1mm\u001b[22m\u001b[1ma\u001b[22m\u001b[1mt\u001b[22m\n",
      "\n"
     ]
    },
    {
     "data": {
      "text/markdown": [
       "```\n",
       "repmat(A, m::Integer, n::Integer=1)\n",
       "```\n",
       "\n",
       "Construct a matrix by repeating the given matrix (or vector) `m` times in dimension 1 and `n` times in dimension 2.\n",
       "\n",
       "# Examples\n",
       "\n",
       "```jldoctest\n",
       "julia> repmat([1, 2, 3], 2)\n",
       "6-element Array{Int64,1}:\n",
       " 1\n",
       " 2\n",
       " 3\n",
       " 1\n",
       " 2\n",
       " 3\n",
       "\n",
       "julia> repmat([1, 2, 3], 2, 3)\n",
       "6×3 Array{Int64,2}:\n",
       " 1  1  1\n",
       " 2  2  2\n",
       " 3  3  3\n",
       " 1  1  1\n",
       " 2  2  2\n",
       " 3  3  3\n",
       "```\n"
      ],
      "text/plain": [
       "```\n",
       "repmat(A, m::Integer, n::Integer=1)\n",
       "```\n",
       "\n",
       "Construct a matrix by repeating the given matrix (or vector) `m` times in dimension 1 and `n` times in dimension 2.\n",
       "\n",
       "# Examples\n",
       "\n",
       "```jldoctest\n",
       "julia> repmat([1, 2, 3], 2)\n",
       "6-element Array{Int64,1}:\n",
       " 1\n",
       " 2\n",
       " 3\n",
       " 1\n",
       " 2\n",
       " 3\n",
       "\n",
       "julia> repmat([1, 2, 3], 2, 3)\n",
       "6×3 Array{Int64,2}:\n",
       " 1  1  1\n",
       " 2  2  2\n",
       " 3  3  3\n",
       " 1  1  1\n",
       " 2  2  2\n",
       " 3  3  3\n",
       "```\n"
      ]
     },
     "execution_count": 35,
     "metadata": {},
     "output_type": "execute_result"
    }
   ],
   "source": [
    "?repmat"
   ]
  },
  {
   "cell_type": "code",
   "execution_count": 36,
   "metadata": {},
   "outputs": [
    {
     "name": "stdout",
     "output_type": "stream",
     "text": [
      "  0.359771 seconds (31.25 k allocations: 192.110 MiB, 17.51% gc time)\n"
     ]
    }
   ],
   "source": [
    "@time C1=repmat(x,1,5000);"
   ]
  },
  {
   "cell_type": "code",
   "execution_count": null,
   "metadata": {
    "collapsed": true
   },
   "outputs": [],
   "source": []
  }
 ],
 "metadata": {
  "anaconda-cloud": {},
  "kernelspec": {
   "display_name": "Julia 0.6.2",
   "language": "julia",
   "name": "julia-0.6"
  },
  "language_info": {
   "file_extension": ".jl",
   "mimetype": "application/julia",
   "name": "julia",
   "version": "0.6.2"
  }
 },
 "nbformat": 4,
 "nbformat_minor": 1
}
